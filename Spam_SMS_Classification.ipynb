{
  "nbformat": 4,
  "nbformat_minor": 0,
  "metadata": {
    "colab": {
      "name": "Untitled0.ipynb",
      "provenance": [],
      "toc_visible": true,
      "authorship_tag": "ABX9TyOV/4uxbKrLNBd4mo5aXTBG",
      "include_colab_link": true
    },
    "kernelspec": {
      "name": "python3",
      "display_name": "Python 3"
    }
  },
  "cells": [
    {
      "cell_type": "markdown",
      "metadata": {
        "id": "view-in-github",
        "colab_type": "text"
      },
      "source": [
        "<a href=\"https://colab.research.google.com/github/zishanparwez/Spam-SMS-Classification-using-NLP/blob/main/Spam_SMS_Classification.ipynb\" target=\"_parent\"><img src=\"https://colab.research.google.com/assets/colab-badge.svg\" alt=\"Open In Colab\"/></a>"
      ]
    },
    {
      "cell_type": "code",
      "metadata": {
        "id": "0ZhsBJNmudlt"
      },
      "source": [
        "import pandas as pd\n",
        "import numpy as np\n",
        "import matplotlib.pyplot as plt\n",
        "import seaborn as sns\n",
        "\n",
        "%matplotlib inline\n",
        "sns.set_style(\"darkgrid\")"
      ],
      "execution_count": null,
      "outputs": []
    },
    {
      "cell_type": "code",
      "metadata": {
        "id": "prMajjXyukd-",
        "colab": {
          "base_uri": "https://localhost:8080/",
          "height": 195
        },
        "outputId": "7d011af6-4bb6-4d8b-9b4c-1399512d8669"
      },
      "source": [
        "sms = pd.read_csv('/content/spam.csv',encoding='latin1')\n",
        "sms = sms.iloc[:,[0,1]]\n",
        "sms.columns = [\"label\", \"message\"]\n",
        "sms.head()"
      ],
      "execution_count": 3,
      "outputs": [
        {
          "output_type": "execute_result",
          "data": {
            "text/html": [
              "<div>\n",
              "<style scoped>\n",
              "    .dataframe tbody tr th:only-of-type {\n",
              "        vertical-align: middle;\n",
              "    }\n",
              "\n",
              "    .dataframe tbody tr th {\n",
              "        vertical-align: top;\n",
              "    }\n",
              "\n",
              "    .dataframe thead th {\n",
              "        text-align: right;\n",
              "    }\n",
              "</style>\n",
              "<table border=\"1\" class=\"dataframe\">\n",
              "  <thead>\n",
              "    <tr style=\"text-align: right;\">\n",
              "      <th></th>\n",
              "      <th>label</th>\n",
              "      <th>message</th>\n",
              "    </tr>\n",
              "  </thead>\n",
              "  <tbody>\n",
              "    <tr>\n",
              "      <th>0</th>\n",
              "      <td>ham</td>\n",
              "      <td>Go until jurong point, crazy.. Available only ...</td>\n",
              "    </tr>\n",
              "    <tr>\n",
              "      <th>1</th>\n",
              "      <td>ham</td>\n",
              "      <td>Ok lar... Joking wif u oni...</td>\n",
              "    </tr>\n",
              "    <tr>\n",
              "      <th>2</th>\n",
              "      <td>spam</td>\n",
              "      <td>Free entry in 2 a wkly comp to win FA Cup fina...</td>\n",
              "    </tr>\n",
              "    <tr>\n",
              "      <th>3</th>\n",
              "      <td>ham</td>\n",
              "      <td>U dun say so early hor... U c already then say...</td>\n",
              "    </tr>\n",
              "    <tr>\n",
              "      <th>4</th>\n",
              "      <td>ham</td>\n",
              "      <td>Nah I don't think he goes to usf, he lives aro...</td>\n",
              "    </tr>\n",
              "  </tbody>\n",
              "</table>\n",
              "</div>"
            ],
            "text/plain": [
              "  label                                            message\n",
              "0   ham  Go until jurong point, crazy.. Available only ...\n",
              "1   ham                      Ok lar... Joking wif u oni...\n",
              "2  spam  Free entry in 2 a wkly comp to win FA Cup fina...\n",
              "3   ham  U dun say so early hor... U c already then say...\n",
              "4   ham  Nah I don't think he goes to usf, he lives aro..."
            ]
          },
          "metadata": {
            "tags": []
          },
          "execution_count": 3
        }
      ]
    },
    {
      "cell_type": "code",
      "metadata": {
        "colab": {
          "base_uri": "https://localhost:8080/"
        },
        "id": "Sfnvz7M9w-IJ",
        "outputId": "537218fb-3bdc-4578-d7cc-507d66cf82bd"
      },
      "source": [
        "sms.shape"
      ],
      "execution_count": 4,
      "outputs": [
        {
          "output_type": "execute_result",
          "data": {
            "text/plain": [
              "(5572, 2)"
            ]
          },
          "metadata": {
            "tags": []
          },
          "execution_count": 4
        }
      ]
    },
    {
      "cell_type": "code",
      "metadata": {
        "colab": {
          "base_uri": "https://localhost:8080/",
          "height": 299
        },
        "id": "PCKr5VhbxFSq",
        "outputId": "c5c722b5-3e0e-4f04-a5c9-0f2afba7fe38"
      },
      "source": [
        "count_Class=pd.value_counts(sms[\"label\"], sort= True)\n",
        "count_Class.plot(kind = 'bar',color = [\"green\",\"red\"])\n",
        "plt.title('Bar Plot')\n",
        "plt.show();"
      ],
      "execution_count": 5,
      "outputs": [
        {
          "output_type": "display_data",
          "data": {
            "image/png": "[encoded data removed]",
            "text/plain": [
              "<Figure size 432x288 with 1 Axes>"
            ]
          },
          "metadata": {
            "tags": [],
            "needs_background": "light"
          }
        }
      ]
    },
    {
      "cell_type": "code",
      "metadata": {
        "colab": {
          "base_uri": "https://localhost:8080/",
          "height": 166
        },
        "id": "BhAtvv0vxK1o",
        "outputId": "64ffdce5-5aae-4f56-f904-69e9ad38aea3"
      },
      "source": [
        "sms.groupby('label').describe()"
      ],
      "execution_count": 6,
      "outputs": [
        {
          "output_type": "execute_result",
          "data": {
            "text/html": [
              "<div>\n",
              "<style scoped>\n",
              "    .dataframe tbody tr th:only-of-type {\n",
              "        vertical-align: middle;\n",
              "    }\n",
              "\n",
              "    .dataframe tbody tr th {\n",
              "        vertical-align: top;\n",
              "    }\n",
              "\n",
              "    .dataframe thead tr th {\n",
              "        text-align: left;\n",
              "    }\n",
              "\n",
              "    .dataframe thead tr:last-of-type th {\n",
              "        text-align: right;\n",
              "    }\n",
              "</style>\n",
              "<table border=\"1\" class=\"dataframe\">\n",
              "  <thead>\n",
              "    <tr>\n",
              "      <th></th>\n",
              "      <th colspan=\"4\" halign=\"left\">message</th>\n",
              "    </tr>\n",
              "    <tr>\n",
              "      <th></th>\n",
              "      <th>count</th>\n",
              "      <th>unique</th>\n",
              "      <th>top</th>\n",
              "      <th>freq</th>\n",
              "    </tr>\n",
              "    <tr>\n",
              "      <th>label</th>\n",
              "      <th></th>\n",
              "      <th></th>\n",
              "      <th></th>\n",
              "      <th></th>\n",
              "    </tr>\n",
              "  </thead>\n",
              "  <tbody>\n",
              "    <tr>\n",
              "      <th>ham</th>\n",
              "      <td>4825</td>\n",
              "      <td>4516</td>\n",
              "      <td>Sorry, I'll call later</td>\n",
              "      <td>30</td>\n",
              "    </tr>\n",
              "    <tr>\n",
              "      <th>spam</th>\n",
              "      <td>747</td>\n",
              "      <td>653</td>\n",
              "      <td>Please call our customer service representativ...</td>\n",
              "      <td>4</td>\n",
              "    </tr>\n",
              "  </tbody>\n",
              "</table>\n",
              "</div>"
            ],
            "text/plain": [
              "      message                                                               \n",
              "        count unique                                                top freq\n",
              "label                                                                       \n",
              "ham      4825   4516                             Sorry, I'll call later   30\n",
              "spam      747    653  Please call our customer service representativ...    4"
            ]
          },
          "metadata": {
            "tags": []
          },
          "execution_count": 6
        }
      ]
    },
    {
      "cell_type": "code",
      "metadata": {
        "colab": {
          "base_uri": "https://localhost:8080/",
          "height": 195
        },
        "id": "6JFoydJpxOsQ",
        "outputId": "c045c822-2594-41fe-ad0a-e01f943750f3"
      },
      "source": [
        "sms['length'] = sms['message'].apply(len)\n",
        "sms.head()"
      ],
      "execution_count": 7,
      "outputs": [
        {
          "output_type": "execute_result",
          "data": {
            "text/html": [
              "<div>\n",
              "<style scoped>\n",
              "    .dataframe tbody tr th:only-of-type {\n",
              "        vertical-align: middle;\n",
              "    }\n",
              "\n",
              "    .dataframe tbody tr th {\n",
              "        vertical-align: top;\n",
              "    }\n",
              "\n",
              "    .dataframe thead th {\n",
              "        text-align: right;\n",
              "    }\n",
              "</style>\n",
              "<table border=\"1\" class=\"dataframe\">\n",
              "  <thead>\n",
              "    <tr style=\"text-align: right;\">\n",
              "      <th></th>\n",
              "      <th>label</th>\n",
              "      <th>message</th>\n",
              "      <th>length</th>\n",
              "    </tr>\n",
              "  </thead>\n",
              "  <tbody>\n",
              "    <tr>\n",
              "      <th>0</th>\n",
              "      <td>ham</td>\n",
              "      <td>Go until jurong point, crazy.. Available only ...</td>\n",
              "      <td>111</td>\n",
              "    </tr>\n",
              "    <tr>\n",
              "      <th>1</th>\n",
              "      <td>ham</td>\n",
              "      <td>Ok lar... Joking wif u oni...</td>\n",
              "      <td>29</td>\n",
              "    </tr>\n",
              "    <tr>\n",
              "      <th>2</th>\n",
              "      <td>spam</td>\n",
              "      <td>Free entry in 2 a wkly comp to win FA Cup fina...</td>\n",
              "      <td>155</td>\n",
              "    </tr>\n",
              "    <tr>\n",
              "      <th>3</th>\n",
              "      <td>ham</td>\n",
              "      <td>U dun say so early hor... U c already then say...</td>\n",
              "      <td>49</td>\n",
              "    </tr>\n",
              "    <tr>\n",
              "      <th>4</th>\n",
              "      <td>ham</td>\n",
              "      <td>Nah I don't think he goes to usf, he lives aro...</td>\n",
              "      <td>61</td>\n",
              "    </tr>\n",
              "  </tbody>\n",
              "</table>\n",
              "</div>"
            ],
            "text/plain": [
              "  label                                            message  length\n",
              "0   ham  Go until jurong point, crazy.. Available only ...     111\n",
              "1   ham                      Ok lar... Joking wif u oni...      29\n",
              "2  spam  Free entry in 2 a wkly comp to win FA Cup fina...     155\n",
              "3   ham  U dun say so early hor... U c already then say...      49\n",
              "4   ham  Nah I don't think he goes to usf, he lives aro...      61"
            ]
          },
          "metadata": {
            "tags": []
          },
          "execution_count": 7
        }
      ]
    },
    {
      "cell_type": "code",
      "metadata": {
        "colab": {
          "base_uri": "https://localhost:8080/",
          "height": 482
        },
        "id": "h7Zx0S1mxWHY",
        "outputId": "14b4d202-5232-473a-e19d-978c40d63816"
      },
      "source": [
        "fig = plt.figure(dpi = 120)\n",
        "ax = plt.axes()\n",
        "sms['length'].plot(bins=50, kind='hist',ax=ax,color = 'indigo')\n",
        "ax.set(xlabel = 'Message Length Class',ylabel = 'Frequency',title = 'Length Distribution');"
      ],
      "execution_count": 8,
      "outputs": [
        {
          "output_type": "display_data",
          "data": {
            "image/png": "[encoded data removed]",
            "text/plain": [
              "<Figure size 720x480 with 1 Axes>"
            ]
          },
          "metadata": {
            "tags": [],
            "needs_background": "light"
          }
        }
      ]
    },
    {
      "cell_type": "code",
      "metadata": {
        "colab": {
          "base_uri": "https://localhost:8080/",
          "height": 514
        },
        "id": "5cSGBuAvxYMV",
        "outputId": "5a5c0c0e-7d0a-480f-dd18-7e39f725d865"
      },
      "source": [
        "plt.figure(figsize=(12, 8))\n",
        "\n",
        "sms[sms.label=='ham'].length.plot(bins=35, kind='hist', color='green', \n",
        "                                       label='Ham messages', alpha=0.6)\n",
        "sms[sms.label=='spam'].length.plot(kind='hist', color='red', \n",
        "                                       label='Spam messages', alpha=0.6)\n",
        "plt.legend()\n",
        "plt.xlabel(\"Message Length\")"
      ],
      "execution_count": 9,
      "outputs": [
        {
          "output_type": "execute_result",
          "data": {
            "text/plain": [
              "Text(0.5, 0, 'Message Length')"
            ]
          },
          "metadata": {
            "tags": []
          },
          "execution_count": 9
        },
        {
          "output_type": "display_data",
          "data": {
            "image/png": "[encoded data removed]",
            "text/plain": [
              "<Figure size 864x576 with 1 Axes>"
            ]
          },
          "metadata": {
            "tags": [],
            "needs_background": "light"
          }
        }
      ]
    },
    {
      "cell_type": "code",
      "metadata": {
        "id": "QHxJdpF7xbwy"
      },
      "source": [
        "from collections import Counter\n",
        "\n",
        "count1 = Counter(\" \".join(sms[sms['label']=='ham'][\"message\"]).split()).most_common(20)\n",
        "df1 = pd.DataFrame.from_dict(count1)\n",
        "df1 = df1.rename(columns={0: \"words in non-spam\", 1 : \"count\"})\n",
        "count2 = Counter(\" \".join(sms[sms['label']=='spam'][\"message\"]).split()).most_common(20)\n",
        "df2 = pd.DataFrame.from_dict(count2)\n",
        "df2 = df2.rename(columns={0: \"words in spam\", 1 : \"count_\"})"
      ],
      "execution_count": 10,
      "outputs": []
    },
    {
      "cell_type": "code",
      "metadata": {
        "colab": {
          "base_uri": "https://localhost:8080/",
          "height": 603
        },
        "id": "dCy0SfMxxkTb",
        "outputId": "5bb01f70-a875-4899-d0e6-4c249d55bae8"
      },
      "source": [
        "df1.plot.bar(legend = False,color=\"black\")\n",
        "y_pos = np.arange(len(df1[\"words in non-spam\"]))\n",
        "plt.xticks(y_pos, df1[\"words in non-spam\"])\n",
        "plt.title('More frequent words in non-spam messages')\n",
        "plt.xlabel('words')\n",
        "plt.ylabel('number')\n",
        "plt.show()\n",
        "\n",
        "\n",
        "df2.plot.bar(legend = False, color = 'blue')\n",
        "y_pos = np.arange(len(df2[\"words in spam\"]))\n",
        "plt.xticks(y_pos, df2[\"words in spam\"])\n",
        "plt.title('More frequent words in spam messages')\n",
        "plt.xlabel('words')\n",
        "plt.ylabel('number')\n",
        "plt.show()"
      ],
      "execution_count": 11,
      "outputs": [
        {
          "output_type": "display_data",
          "data": {
            "image/png": "[encoded data removed]",
            "text/plain": [
              "<Figure size 432x288 with 1 Axes>"
            ]
          },
          "metadata": {
            "tags": [],
            "needs_background": "light"
          }
        },
        {
          "output_type": "display_data",
          "data": {
            "image/png": "[encoded data removed]",
            "text/plain": [
              "<Figure size 432x288 with 1 Axes>"
            ]
          },
          "metadata": {
            "tags": [],
            "needs_background": "light"
          }
        }
      ]
    },
    {
      "cell_type": "code",
      "metadata": {
        "colab": {
          "base_uri": "https://localhost:8080/",
          "height": 52
        },
        "id": "pTxOv4vbxoaU",
        "outputId": "4205f4e4-594e-44ba-c3fe-90d52a62e9b5"
      },
      "source": [
        "sms[sms.length == 200].message.iloc[0]"
      ],
      "execution_count": 12,
      "outputs": [
        {
          "output_type": "execute_result",
          "data": {
            "application/vnd.google.colaboratory.intrinsic+json": {
              "type": "string"
            },
            "text/plain": [
              "'Open rebtel with firefox. When it loads just put plus sign in the user name place, and it will show you two numbers. The lower number is my number. Once you pick that number the pin will display okay!'"
            ]
          },
          "metadata": {
            "tags": []
          },
          "execution_count": 12
        }
      ]
    },
    {
      "cell_type": "code",
      "metadata": {
        "id": "nzJx9lebxtHI"
      },
      "source": [
        "from keras.preprocessing.text import Tokenizer\n",
        "from keras.layers import Embedding, LSTM, Dropout, Dense\n",
        "from keras.models import Sequential\n",
        "from keras.utils import to_categorical"
      ],
      "execution_count": 13,
      "outputs": []
    },
    {
      "cell_type": "code",
      "metadata": {
        "id": "fuhN8HXHx0w5"
      },
      "source": [
        "vocab_size = 400\n",
        "oov_tok = \"<OOV>\"\n",
        "max_length = 250\n",
        "embedding_dim = 16"
      ],
      "execution_count": 14,
      "outputs": []
    },
    {
      "cell_type": "code",
      "metadata": {
        "id": "Blt5TBpIx4G_"
      },
      "source": [
        "encode = ({'ham': 0, 'spam': 1} )\n",
        "#new dataset with replaced values\n",
        "sms = sms.replace(encode)"
      ],
      "execution_count": 16,
      "outputs": []
    },
    {
      "cell_type": "code",
      "metadata": {
        "colab": {
          "base_uri": "https://localhost:8080/",
          "height": 195
        },
        "id": "31CwtAdgx7vP",
        "outputId": "7595eb31-d4e5-4105-a080-52e3746dfa6d"
      },
      "source": [
        "sms.head()"
      ],
      "execution_count": 17,
      "outputs": [
        {
          "output_type": "execute_result",
          "data": {
            "text/html": [
              "<div>\n",
              "<style scoped>\n",
              "    .dataframe tbody tr th:only-of-type {\n",
              "        vertical-align: middle;\n",
              "    }\n",
              "\n",
              "    .dataframe tbody tr th {\n",
              "        vertical-align: top;\n",
              "    }\n",
              "\n",
              "    .dataframe thead th {\n",
              "        text-align: right;\n",
              "    }\n",
              "</style>\n",
              "<table border=\"1\" class=\"dataframe\">\n",
              "  <thead>\n",
              "    <tr style=\"text-align: right;\">\n",
              "      <th></th>\n",
              "      <th>label</th>\n",
              "      <th>message</th>\n",
              "      <th>length</th>\n",
              "    </tr>\n",
              "  </thead>\n",
              "  <tbody>\n",
              "    <tr>\n",
              "      <th>0</th>\n",
              "      <td>0</td>\n",
              "      <td>Go until jurong point, crazy.. Available only ...</td>\n",
              "      <td>111</td>\n",
              "    </tr>\n",
              "    <tr>\n",
              "      <th>1</th>\n",
              "      <td>0</td>\n",
              "      <td>Ok lar... Joking wif u oni...</td>\n",
              "      <td>29</td>\n",
              "    </tr>\n",
              "    <tr>\n",
              "      <th>2</th>\n",
              "      <td>1</td>\n",
              "      <td>Free entry in 2 a wkly comp to win FA Cup fina...</td>\n",
              "      <td>155</td>\n",
              "    </tr>\n",
              "    <tr>\n",
              "      <th>3</th>\n",
              "      <td>0</td>\n",
              "      <td>U dun say so early hor... U c already then say...</td>\n",
              "      <td>49</td>\n",
              "    </tr>\n",
              "    <tr>\n",
              "      <th>4</th>\n",
              "      <td>0</td>\n",
              "      <td>Nah I don't think he goes to usf, he lives aro...</td>\n",
              "      <td>61</td>\n",
              "    </tr>\n",
              "  </tbody>\n",
              "</table>\n",
              "</div>"
            ],
            "text/plain": [
              "   label                                            message  length\n",
              "0      0  Go until jurong point, crazy.. Available only ...     111\n",
              "1      0                      Ok lar... Joking wif u oni...      29\n",
              "2      1  Free entry in 2 a wkly comp to win FA Cup fina...     155\n",
              "3      0  U dun say so early hor... U c already then say...      49\n",
              "4      0  Nah I don't think he goes to usf, he lives aro...      61"
            ]
          },
          "metadata": {
            "tags": []
          },
          "execution_count": 17
        }
      ]
    },
    {
      "cell_type": "code",
      "metadata": {
        "id": "hVWYvgrtx_Xl"
      },
      "source": [
        "X = sms['message']\n",
        "Y = sms['label']"
      ],
      "execution_count": 18,
      "outputs": []
    },
    {
      "cell_type": "code",
      "metadata": {
        "id": "qW8kzqsnyDY6"
      },
      "source": [
        "tokenizer = Tokenizer(num_words=vocab_size, oov_token=oov_tok)\n",
        "tokenizer.fit_on_texts(X)\n",
        "# convert to sequence of integers\n",
        "X = tokenizer.texts_to_sequences(X)"
      ],
      "execution_count": 19,
      "outputs": []
    },
    {
      "cell_type": "code",
      "metadata": {
        "id": "rVrmYSfqyHl-"
      },
      "source": [
        "X = np.array(X)\n",
        "y = np.array(Y)"
      ],
      "execution_count": 20,
      "outputs": []
    },
    {
      "cell_type": "code",
      "metadata": {
        "id": "122IZiM_yKim"
      },
      "source": [
        "from keras.preprocessing.sequence import pad_sequences\n",
        "\n",
        "X = pad_sequences(X, maxlen=max_length)"
      ],
      "execution_count": 21,
      "outputs": []
    },
    {
      "cell_type": "code",
      "metadata": {
        "id": "HU8OaFKhyOKK"
      },
      "source": [
        "from sklearn.model_selection import train_test_split\n",
        "\n",
        "X_train, X_test, y_train, y_test = train_test_split(X, Y, test_size=.25, random_state=7)"
      ],
      "execution_count": 22,
      "outputs": []
    },
    {
      "cell_type": "code",
      "metadata": {
        "colab": {
          "base_uri": "https://localhost:8080/"
        },
        "id": "2vPWPR6YyTbh",
        "outputId": "391e32e4-29d5-4186-cd32-b2507d8516f5"
      },
      "source": [
        "import tensorflow as tf\n",
        "\n",
        "model = tf.keras.Sequential([\n",
        "    tf.keras.layers.Embedding(vocab_size, embedding_dim, input_length=max_length),\n",
        "    tf.keras.layers.GlobalAveragePooling1D(),\n",
        "    tf.keras.layers.Dense(24, activation='relu'),\n",
        "    tf.keras.layers.Dense(1, activation='sigmoid')\n",
        "])\n",
        "model.compile(loss='binary_crossentropy',optimizer='adam',metrics=['accuracy'])\n",
        "model.summary()"
      ],
      "execution_count": 23,
      "outputs": [
        {
          "output_type": "stream",
          "text": [
            "Model: \"sequential\"\n",
            "_________________________________________________________________\n",
            "Layer (type)                 Output Shape              Param #   \n",
            "=================================================================\n",
            "embedding (Embedding)        (None, 250, 16)           6400      \n",
            "_________________________________________________________________\n",
            "global_average_pooling1d (Gl (None, 16)                0         \n",
            "_________________________________________________________________\n",
            "dense (Dense)                (None, 24)                408       \n",
            "_________________________________________________________________\n",
            "dense_1 (Dense)              (None, 1)                 25        \n",
            "=================================================================\n",
            "Total params: 6,833\n",
            "Trainable params: 6,833\n",
            "Non-trainable params: 0\n",
            "_________________________________________________________________\n"
          ],
          "name": "stdout"
        }
      ]
    },
    {
      "cell_type": "code",
      "metadata": {
        "colab": {
          "base_uri": "https://localhost:8080/"
        },
        "id": "K9youwoxyZw3",
        "outputId": "6d09bf98-4f1e-44bc-80b7-34b09bdfbef6"
      },
      "source": [
        "num_epochs = 30\n",
        "history = model.fit(X_train, y_train, epochs=num_epochs, validation_data=(X_test,y_test), verbose=2)"
      ],
      "execution_count": 24,
      "outputs": [
        {
          "output_type": "stream",
          "text": [
            "Epoch 1/30\n",
            "131/131 - 0s - loss: 0.5084 - accuracy: 0.8543 - val_loss: 0.3796 - val_accuracy: 0.8693\n",
            "Epoch 2/30\n",
            "131/131 - 0s - loss: 0.3807 - accuracy: 0.8648 - val_loss: 0.3663 - val_accuracy: 0.8693\n",
            "Epoch 3/30\n",
            "131/131 - 0s - loss: 0.3682 - accuracy: 0.8648 - val_loss: 0.3534 - val_accuracy: 0.8693\n",
            "Epoch 4/30\n",
            "131/131 - 0s - loss: 0.3510 - accuracy: 0.8648 - val_loss: 0.3312 - val_accuracy: 0.8693\n",
            "Epoch 5/30\n",
            "131/131 - 0s - loss: 0.3194 - accuracy: 0.8641 - val_loss: 0.2891 - val_accuracy: 0.8693\n",
            "Epoch 6/30\n",
            "131/131 - 0s - loss: 0.2644 - accuracy: 0.8679 - val_loss: 0.2250 - val_accuracy: 0.8780\n",
            "Epoch 7/30\n",
            "131/131 - 0s - loss: 0.2060 - accuracy: 0.9084 - val_loss: 0.1761 - val_accuracy: 0.9218\n",
            "Epoch 8/30\n",
            "131/131 - 0s - loss: 0.1675 - accuracy: 0.9452 - val_loss: 0.1444 - val_accuracy: 0.9541\n",
            "Epoch 9/30\n",
            "131/131 - 0s - loss: 0.1410 - accuracy: 0.9555 - val_loss: 0.1230 - val_accuracy: 0.9598\n",
            "Epoch 10/30\n",
            "131/131 - 0s - loss: 0.1230 - accuracy: 0.9615 - val_loss: 0.1091 - val_accuracy: 0.9627\n",
            "Epoch 11/30\n",
            "131/131 - 0s - loss: 0.1095 - accuracy: 0.9655 - val_loss: 0.0963 - val_accuracy: 0.9655\n",
            "Epoch 12/30\n",
            "131/131 - 0s - loss: 0.1000 - accuracy: 0.9675 - val_loss: 0.0875 - val_accuracy: 0.9684\n",
            "Epoch 13/30\n",
            "131/131 - 0s - loss: 0.0913 - accuracy: 0.9715 - val_loss: 0.0806 - val_accuracy: 0.9691\n",
            "Epoch 14/30\n",
            "131/131 - 0s - loss: 0.0847 - accuracy: 0.9739 - val_loss: 0.0757 - val_accuracy: 0.9698\n",
            "Epoch 15/30\n",
            "131/131 - 0s - loss: 0.0796 - accuracy: 0.9746 - val_loss: 0.0713 - val_accuracy: 0.9763\n",
            "Epoch 16/30\n",
            "131/131 - 0s - loss: 0.0753 - accuracy: 0.9746 - val_loss: 0.0704 - val_accuracy: 0.9742\n",
            "Epoch 17/30\n",
            "131/131 - 0s - loss: 0.0701 - accuracy: 0.9768 - val_loss: 0.0659 - val_accuracy: 0.9770\n",
            "Epoch 18/30\n",
            "131/131 - 0s - loss: 0.0663 - accuracy: 0.9782 - val_loss: 0.0620 - val_accuracy: 0.9785\n",
            "Epoch 19/30\n",
            "131/131 - 0s - loss: 0.0630 - accuracy: 0.9782 - val_loss: 0.0638 - val_accuracy: 0.9792\n",
            "Epoch 20/30\n",
            "131/131 - 0s - loss: 0.0602 - accuracy: 0.9789 - val_loss: 0.0601 - val_accuracy: 0.9806\n",
            "Epoch 21/30\n",
            "131/131 - 0s - loss: 0.0584 - accuracy: 0.9799 - val_loss: 0.0577 - val_accuracy: 0.9813\n",
            "Epoch 22/30\n",
            "131/131 - 0s - loss: 0.0558 - accuracy: 0.9813 - val_loss: 0.0560 - val_accuracy: 0.9806\n",
            "Epoch 23/30\n",
            "131/131 - 0s - loss: 0.0543 - accuracy: 0.9823 - val_loss: 0.0551 - val_accuracy: 0.9821\n",
            "Epoch 24/30\n",
            "131/131 - 0s - loss: 0.0526 - accuracy: 0.9828 - val_loss: 0.0549 - val_accuracy: 0.9828\n",
            "Epoch 25/30\n",
            "131/131 - 0s - loss: 0.0519 - accuracy: 0.9830 - val_loss: 0.0536 - val_accuracy: 0.9835\n",
            "Epoch 26/30\n",
            "131/131 - 0s - loss: 0.0499 - accuracy: 0.9835 - val_loss: 0.0538 - val_accuracy: 0.9856\n",
            "Epoch 27/30\n",
            "131/131 - 0s - loss: 0.0483 - accuracy: 0.9849 - val_loss: 0.0539 - val_accuracy: 0.9856\n",
            "Epoch 28/30\n",
            "131/131 - 0s - loss: 0.0466 - accuracy: 0.9835 - val_loss: 0.0523 - val_accuracy: 0.9856\n",
            "Epoch 29/30\n",
            "131/131 - 0s - loss: 0.0459 - accuracy: 0.9849 - val_loss: 0.0520 - val_accuracy: 0.9864\n",
            "Epoch 30/30\n",
            "131/131 - 0s - loss: 0.0441 - accuracy: 0.9854 - val_loss: 0.0530 - val_accuracy: 0.9856\n"
          ],
          "name": "stdout"
        }
      ]
    },
    {
      "cell_type": "code",
      "metadata": {
        "colab": {
          "base_uri": "https://localhost:8080/"
        },
        "id": "l6bzlxzCyjpn",
        "outputId": "38eb18f4-8696-40b1-a99f-448ef08d34f3"
      },
      "source": [
        "result = model.evaluate(X_test, y_test)\n",
        "# extract those\n",
        "loss = result[0]\n",
        "accuracy = result[1]\n",
        "\n",
        "\n",
        "print(f\"[+] Accuracy: {accuracy*100:.2f}%\")"
      ],
      "execution_count": 25,
      "outputs": [
        {
          "output_type": "stream",
          "text": [
            "44/44 [==============================] - 0s 1ms/step - loss: 0.0530 - accuracy: 0.9856\n",
            "[+] Accuracy: 98.56%\n"
          ],
          "name": "stdout"
        }
      ]
    },
    {
      "cell_type": "code",
      "metadata": {
        "id": "dm7Wcns9yn_L"
      },
      "source": [
        "from keras.preprocessing import sequence"
      ],
      "execution_count": 26,
      "outputs": []
    },
    {
      "cell_type": "code",
      "metadata": {
        "id": "okZyUd4Cyrja"
      },
      "source": [
        "def get_predictions(txts):\n",
        "    txts = tokenizer.texts_to_sequences(txts)\n",
        "    txts = sequence.pad_sequences(txts, maxlen=max_length)\n",
        "    preds = model.predict(txts)\n",
        "    if(preds[0] > 0.5):\n",
        "        print(\"SPAM MESSAGE\")\n",
        "        \n",
        "    else:\n",
        "        print('NOT SPAM')"
      ],
      "execution_count": 27,
      "outputs": []
    },
    {
      "cell_type": "code",
      "metadata": {
        "colab": {
          "base_uri": "https://localhost:8080/"
        },
        "id": "XcQYC4rryvGg",
        "outputId": "88004659-903e-43a6-9e5a-ef9aab04dbef"
      },
      "source": [
        "txts=[\"Free entry in 2 a wkly comp to win FA Cup final tkts 21st May 2005\"]\n",
        "\n",
        "get_predictions(txts)"
      ],
      "execution_count": 28,
      "outputs": [
        {
          "output_type": "stream",
          "text": [
            "SPAM MESSAGE\n"
          ],
          "name": "stdout"
        }
      ]
    },
    {
      "cell_type": "code",
      "metadata": {
        "colab": {
          "base_uri": "https://localhost:8080/"
        },
        "id": "cg31T-f2yyfI",
        "outputId": "3b5089f4-183e-4896-8778-8d5117454a7f"
      },
      "source": [
        "txts = [\"Hi man, I was wondering if we can meet tomorrow.\"]\n",
        "get_predictions(txts)"
      ],
      "execution_count": 29,
      "outputs": [
        {
          "output_type": "stream",
          "text": [
            "NOT SPAM\n"
          ],
          "name": "stdout"
        }
      ]
    },
    {
      "cell_type": "code",
      "metadata": {
        "id": "MBW5x88dy02R"
      },
      "source": [
        ""
      ],
      "execution_count": null,
      "outputs": []
    }
  ]
}